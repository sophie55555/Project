{
  "nbformat": 4,
  "nbformat_minor": 0,
  "metadata": {
    "colab": {
      "provenance": [],
      "authorship_tag": "ABX9TyPeQFOsfHdsVuDywaAT7Vv0",
      "include_colab_link": true
    },
    "kernelspec": {
      "name": "python3",
      "display_name": "Python 3"
    },
    "language_info": {
      "name": "python"
    }
  },
  "cells": [
    {
      "cell_type": "markdown",
      "metadata": {
        "id": "view-in-github",
        "colab_type": "text"
      },
      "source": [
        "<a href=\"https://colab.research.google.com/github/sophie55555/Project/blob/main/project_1_load_digits(%EC%86%90%EA%B8%80%EC%94%A8).ipynb\" target=\"_parent\"><img src=\"https://colab.research.google.com/assets/colab-badge.svg\" alt=\"Open In Colab\"/></a>"
      ]
    },
    {
      "cell_type": "markdown",
      "source": [
        "6-1. 프로젝트 (1) load_digits : 손글씨를 분류해 봅시다\n",
        "우선 라이브러리 버전을 확인하고 진행할까요?"
      ],
      "metadata": {
        "id": "a72Fm7uDp_Hf"
      }
    },
    {
      "cell_type": "code",
      "execution_count": null,
      "metadata": {
        "id": "7qc1nFrrp7mv",
        "colab": {
          "base_uri": "https://localhost:8080/"
        },
        "outputId": "aefe620a-19fc-47a0-c3f5-0c73becd3210"
      },
      "outputs": [
        {
          "output_type": "stream",
          "name": "stdout",
          "text": [
            "1.5.2\n"
          ]
        }
      ],
      "source": [
        "import sklearn\n",
        "\n",
        "print(sklearn.__version__)"
      ]
    },
    {
      "cell_type": "markdown",
      "source": [
        "(1) 필요한 모듈 import하기"
      ],
      "metadata": {
        "id": "aAyWAko4qsLz"
      }
    },
    {
      "cell_type": "code",
      "source": [
        "from sklearn.model_selection import train_test_split\n",
        "from sklearn.preprocessing import StandardScaler\n",
        "from sklearn.linear_model import LogisticRegression\n",
        "from sklearn.metrics import accuracy_score, classification_report, confusion_matrix\n",
        "import matplotlib.pyplot as plt\n",
        "import seaborn as sns\n",
        "import pandas as pd"
      ],
      "metadata": {
        "id": "PvQUeh9XqtRi"
      },
      "execution_count": null,
      "outputs": []
    },
    {
      "cell_type": "markdown",
      "source": [
        "(2) 데이터 준비\n",
        "load_digits 메서드를 사용합니다."
      ],
      "metadata": {
        "id": "0oQ_1rd5q-_P"
      }
    },
    {
      "cell_type": "code",
      "source": [
        "from sklearn.datasets import load_digits\n",
        "\n",
        "digits = load_digits() # Dictionary 자료형과 유사한 sklearn.utils.Bunch 자료형\n",
        "digits.keys()"
      ],
      "metadata": {
        "id": "BN56FAI1rMuj",
        "colab": {
          "base_uri": "https://localhost:8080/"
        },
        "outputId": "d33b86e1-d162-4520-9e8c-3a0cd0e0cb22"
      },
      "execution_count": null,
      "outputs": [
        {
          "output_type": "execute_result",
          "data": {
            "text/plain": [
              "dict_keys(['data', 'target', 'frame', 'feature_names', 'target_names', 'images', 'DESCR'])"
            ]
          },
          "metadata": {},
          "execution_count": 28
        }
      ]
    },
    {
      "cell_type": "markdown",
      "source": [
        "(3) 데이터 이해하기\n",
        "\n",
        "지피지기면 백전불태! 다루어야 할 데이터를 자세히 살펴봅시다.\n",
        "\n",
        "Feature Data 지정하기\n",
        "Label Data 지정하기\n",
        "Target Names 출력해 보기\n",
        "데이터 Describe 해 보기"
      ],
      "metadata": {
        "id": "a3DKVShDrQ90"
      }
    },
    {
      "cell_type": "code",
      "source": [
        "digits_data = digits.data\n",
        "digits_data.shape\n",
        "\n"
      ],
      "metadata": {
        "id": "WHJftk2VrVqy",
        "colab": {
          "base_uri": "https://localhost:8080/"
        },
        "outputId": "388fe57f-d15f-4168-8142-c1dc1a64239e"
      },
      "execution_count": null,
      "outputs": [
        {
          "output_type": "execute_result",
          "data": {
            "text/plain": [
              "(1797, 64)"
            ]
          },
          "metadata": {},
          "execution_count": 29
        }
      ]
    },
    {
      "cell_type": "code",
      "source": [
        "# Feature 데이터 추출\n",
        "X = digits.data\n",
        "print(\"Feature 데이터 (X):\\n\", X[:5]) # 처음 5개 행 출력\n",
        "print(\"Feature 데이터 형태:\", X.shape) # Feature 데이터의 형태 (행, 열) 출력"
      ],
      "metadata": {
        "id": "HXgyBzPLrzlA",
        "colab": {
          "base_uri": "https://localhost:8080/"
        },
        "outputId": "f3e69831-2d64-4bb6-c6d7-2f51f79775df"
      },
      "execution_count": null,
      "outputs": [
        {
          "output_type": "stream",
          "name": "stdout",
          "text": [
            "Feature 데이터 (X):\n",
            " [[ 0.  0.  5. 13.  9.  1.  0.  0.  0.  0. 13. 15. 10. 15.  5.  0.  0.  3.\n",
            "  15.  2.  0. 11.  8.  0.  0.  4. 12.  0.  0.  8.  8.  0.  0.  5.  8.  0.\n",
            "   0.  9.  8.  0.  0.  4. 11.  0.  1. 12.  7.  0.  0.  2. 14.  5. 10. 12.\n",
            "   0.  0.  0.  0.  6. 13. 10.  0.  0.  0.]\n",
            " [ 0.  0.  0. 12. 13.  5.  0.  0.  0.  0.  0. 11. 16.  9.  0.  0.  0.  0.\n",
            "   3. 15. 16.  6.  0.  0.  0.  7. 15. 16. 16.  2.  0.  0.  0.  0.  1. 16.\n",
            "  16.  3.  0.  0.  0.  0.  1. 16. 16.  6.  0.  0.  0.  0.  1. 16. 16.  6.\n",
            "   0.  0.  0.  0.  0. 11. 16. 10.  0.  0.]\n",
            " [ 0.  0.  0.  4. 15. 12.  0.  0.  0.  0.  3. 16. 15. 14.  0.  0.  0.  0.\n",
            "   8. 13.  8. 16.  0.  0.  0.  0.  1.  6. 15. 11.  0.  0.  0.  1.  8. 13.\n",
            "  15.  1.  0.  0.  0.  9. 16. 16.  5.  0.  0.  0.  0.  3. 13. 16. 16. 11.\n",
            "   5.  0.  0.  0.  0.  3. 11. 16.  9.  0.]\n",
            " [ 0.  0.  7. 15. 13.  1.  0.  0.  0.  8. 13.  6. 15.  4.  0.  0.  0.  2.\n",
            "   1. 13. 13.  0.  0.  0.  0.  0.  2. 15. 11.  1.  0.  0.  0.  0.  0.  1.\n",
            "  12. 12.  1.  0.  0.  0.  0.  0.  1. 10.  8.  0.  0.  0.  8.  4.  5. 14.\n",
            "   9.  0.  0.  0.  7. 13. 13.  9.  0.  0.]\n",
            " [ 0.  0.  0.  1. 11.  0.  0.  0.  0.  0.  0.  7.  8.  0.  0.  0.  0.  0.\n",
            "   1. 13.  6.  2.  2.  0.  0.  0.  7. 15.  0.  9.  8.  0.  0.  5. 16. 10.\n",
            "   0. 16.  6.  0.  0.  4. 15. 16. 13. 16.  1.  0.  0.  0.  0.  3. 15. 10.\n",
            "   0.  0.  0.  0.  0.  2. 16.  4.  0.  0.]]\n",
            "Feature 데이터 형태: (1797, 64)\n"
          ]
        }
      ]
    },
    {
      "cell_type": "code",
      "source": [
        "# Feature 이름 추출\n",
        "feature_names = digits.feature_names\n",
        "print(\"\\nFeature 이름:\\n\", feature_names)"
      ],
      "metadata": {
        "id": "PAiVabHpr9K1",
        "colab": {
          "base_uri": "https://localhost:8080/"
        },
        "outputId": "e449c8d0-0f54-4132-da96-26357f733f5c"
      },
      "execution_count": null,
      "outputs": [
        {
          "output_type": "stream",
          "name": "stdout",
          "text": [
            "\n",
            "Feature 이름:\n",
            " ['pixel_0_0', 'pixel_0_1', 'pixel_0_2', 'pixel_0_3', 'pixel_0_4', 'pixel_0_5', 'pixel_0_6', 'pixel_0_7', 'pixel_1_0', 'pixel_1_1', 'pixel_1_2', 'pixel_1_3', 'pixel_1_4', 'pixel_1_5', 'pixel_1_6', 'pixel_1_7', 'pixel_2_0', 'pixel_2_1', 'pixel_2_2', 'pixel_2_3', 'pixel_2_4', 'pixel_2_5', 'pixel_2_6', 'pixel_2_7', 'pixel_3_0', 'pixel_3_1', 'pixel_3_2', 'pixel_3_3', 'pixel_3_4', 'pixel_3_5', 'pixel_3_6', 'pixel_3_7', 'pixel_4_0', 'pixel_4_1', 'pixel_4_2', 'pixel_4_3', 'pixel_4_4', 'pixel_4_5', 'pixel_4_6', 'pixel_4_7', 'pixel_5_0', 'pixel_5_1', 'pixel_5_2', 'pixel_5_3', 'pixel_5_4', 'pixel_5_5', 'pixel_5_6', 'pixel_5_7', 'pixel_6_0', 'pixel_6_1', 'pixel_6_2', 'pixel_6_3', 'pixel_6_4', 'pixel_6_5', 'pixel_6_6', 'pixel_6_7', 'pixel_7_0', 'pixel_7_1', 'pixel_7_2', 'pixel_7_3', 'pixel_7_4', 'pixel_7_5', 'pixel_7_6', 'pixel_7_7']\n"
          ]
        }
      ]
    },
    {
      "cell_type": "code",
      "source": [
        "# Label 데이터 추출\n",
        "y = digits.target\n",
        "print(\"\\nLabel 데이터 (y):\\n\", y[:5]) # 처음 5개 레이블 출력\n",
        "print(\"Label 데이터 형태:\", y.shape) # Label 데이터의 형태 출력"
      ],
      "metadata": {
        "id": "frZgEqKBsUqb",
        "colab": {
          "base_uri": "https://localhost:8080/"
        },
        "outputId": "0c630248-5015-4a75-cc6f-a9e229181457"
      },
      "execution_count": null,
      "outputs": [
        {
          "output_type": "stream",
          "name": "stdout",
          "text": [
            "\n",
            "Label 데이터 (y):\n",
            " [0 1 2 3 4]\n",
            "Label 데이터 형태: (1797,)\n"
          ]
        }
      ]
    },
    {
      "cell_type": "code",
      "source": [
        "# Label 이름 추출\n",
        "target_names = digits.target_names\n",
        "print(\"\\nLabel 이름:\\n\", target_names)"
      ],
      "metadata": {
        "id": "qbtzB17HscXX",
        "colab": {
          "base_uri": "https://localhost:8080/"
        },
        "outputId": "c03ae65e-895e-4b6b-c8af-c95b933b7b41"
      },
      "execution_count": null,
      "outputs": [
        {
          "output_type": "stream",
          "name": "stdout",
          "text": [
            "\n",
            "Label 이름:\n",
            " [0 1 2 3 4 5 6 7 8 9]\n"
          ]
        }
      ]
    },
    {
      "cell_type": "markdown",
      "source": [
        "(4) train, test 데이터 분리\n",
        "모델 학습과 테스트용 문제지와 정답지를 준비해 봅시다.\n",
        "X_train, X_test, y_train, y_test를 생성하는 방법을 참고해 보세요."
      ],
      "metadata": {
        "id": "rYR3ECn4sH5k"
      }
    },
    {
      "cell_type": "code",
      "source": [
        "# DataFrame 생성 (데이터 확인 및 분석 용이)\n",
        "data = pd.DataFrame(digits.data, columns=digits.feature_names)\n",
        "target = pd.DataFrame(digits.target, columns=['target'])\n",
        "df = pd.concat([data, target], axis=1)"
      ],
      "metadata": {
        "id": "FPq88WuluRcv"
      },
      "execution_count": null,
      "outputs": []
    },
    {
      "cell_type": "code",
      "source": [
        "# Feature와 Label 분리\n",
        "X = digits.data\n",
        "y = digits.target"
      ],
      "metadata": {
        "id": "WdNqFtnUuZ1W"
      },
      "execution_count": null,
      "outputs": []
    },
    {
      "cell_type": "code",
      "source": [
        "from sklearn.metrics import accuracy_score\n",
        "from sklearn.model_selection import train_test_split\n",
        "from sklearn.tree import DecisionTreeClassifier\n",
        "'''\n",
        "sklearn.model_selection.train_test_split(*arrays, test_size=None, train_size=None, random_state=None, shuffle=True, stratify=None)\n",
        "\n",
        "\n",
        "# test_size : 전체 데이터 셋 중 Test Dataset에 포함하려고 하는 비율\n",
        "# shuffle : Training Dataset과 Test Dataset으로 나누기 전에, 데이터들을 뒤섞을지 여부\n",
        "'''\n",
        "X_train, X_test, y_train, y_test = train_test_split(X, y, test_size=0.2, random_state=15)\n",
        "\n",
        "decision_tree = DecisionTreeClassifier(random_state=15)\n",
        "decision_tree.fit(X_train, y_train) # 의사결정나무 모델로 학습\n",
        "y_pred = decision_tree.predict(X_test) # 테스트 결과 예측\n",
        "\n",
        "accuracy = accuracy_score(y_test, y_pred) # y_pred(답안지)를 y_test(정답지)로 채점\n",
        "accuracy # 정확도 출력"
      ],
      "metadata": {
        "id": "uVxTdh20tqh7",
        "colab": {
          "base_uri": "https://localhost:8080/"
        },
        "outputId": "6953d637-8402-4149-8709-9ab94ca2bed7"
      },
      "execution_count": null,
      "outputs": [
        {
          "output_type": "execute_result",
          "data": {
            "text/plain": [
              "0.8444444444444444"
            ]
          },
          "metadata": {},
          "execution_count": 36
        }
      ]
    },
    {
      "cell_type": "markdown",
      "source": [
        "(5) 다양한 모델로 학습시켜보기"
      ],
      "metadata": {
        "id": "Te1keGI6vff0"
      }
    },
    {
      "cell_type": "markdown",
      "source": [
        "RandomForest"
      ],
      "metadata": {
        "id": "WsqymkLlwUG1"
      }
    },
    {
      "cell_type": "code",
      "source": [
        "# (1) 필요한 모듈 import\n",
        "from sklearn.model_selection import train_test_split #싸이킷런에 있는 데이터를 train과 test dataset으로 나누어주는 함수 import\n",
        "from sklearn.ensemble import RandomForestClassifier #랜덤포레스트라는 분류기를 사용하기 위해 import\n",
        "from sklearn.metrics import classification_report #싸이킷런에 있는 분류 결과에 대한 시각화를 위해 쓰는 코드\n",
        "\n",
        "# (2) 데이터 준비\n",
        "digits = load_digits() #iris 데이터 전체를 불러온다.\n",
        "digits_data = digits.data #iris데이터의 data컬럼을 분류해 iris_data 변수에 담는다.\n",
        "digits_label = digits.target #iris데이터의 target컬럼을 분류해 iris_label 변수에 담는다.\n",
        "\n",
        "\n",
        "X_train, X_test, y_train, y_test = train_test_split(digits_data, # iris 데이터의 data 컬럼\n",
        "                                                    digits_label, # iris 데이터의 target 컬럼\n",
        "                                                    test_size=0.2, # test_size : train data와 test data를 몇대몇으로 나눌지 정하는 옵션\n",
        "                                                    random_state=21) # random_state : 랜덤 패턴의 값을 지정\n",
        "\n",
        "random_forest = RandomForestClassifier(random_state=32) # RandomForest분류기 객체를 생성\n",
        "random_forest.fit(X_train, y_train) # 훈련\n",
        "y_pred = random_forest.predict(X_test) # 예측\n",
        "\n",
        "print(classification_report(y_test, y_pred)) # 결과 지표를 확인"
      ],
      "metadata": {
        "id": "HUwZ78reuvj-",
        "colab": {
          "base_uri": "https://localhost:8080/"
        },
        "outputId": "0359e17c-7953-4a49-a561-897874cf6df8"
      },
      "execution_count": null,
      "outputs": [
        {
          "output_type": "stream",
          "name": "stdout",
          "text": [
            "              precision    recall  f1-score   support\n",
            "\n",
            "           0       0.97      0.94      0.95        32\n",
            "           1       0.97      1.00      0.99        36\n",
            "           2       1.00      1.00      1.00        30\n",
            "           3       0.98      0.98      0.98        41\n",
            "           4       0.94      0.97      0.95        32\n",
            "           5       1.00      0.98      0.99        46\n",
            "           6       1.00      0.97      0.98        32\n",
            "           7       0.98      1.00      0.99        40\n",
            "           8       0.93      0.98      0.95        42\n",
            "           9       1.00      0.93      0.96        29\n",
            "\n",
            "    accuracy                           0.97       360\n",
            "   macro avg       0.98      0.97      0.97       360\n",
            "weighted avg       0.98      0.97      0.98       360\n",
            "\n"
          ]
        }
      ]
    },
    {
      "cell_type": "markdown",
      "source": [
        "SVM 모델은 다음과 같이 사용합니다."
      ],
      "metadata": {
        "id": "qdayFp8HwVYb"
      }
    },
    {
      "cell_type": "code",
      "source": [
        "from sklearn import svm #Support Vector Machine을 사용하기 위해 import\n",
        "svm_model = svm.SVC() # 모델 객체를 만든다.\n",
        "\n",
        "print(svm_model._estimator_type) # 이 모델이 어떤 타입인지 확인한다.\n",
        "\n",
        "svm_model.fit(X_train, y_train) # 훈련\n",
        "y_pred = svm_model.predict(X_test) # 예측\n",
        "\n",
        "print(classification_report(y_test, y_pred)) # 결과 지표를 확인"
      ],
      "metadata": {
        "id": "KZVXgV6cuvWS",
        "colab": {
          "base_uri": "https://localhost:8080/"
        },
        "outputId": "67d9499a-d4b9-4954-dc40-705b4c0c23cd"
      },
      "execution_count": null,
      "outputs": [
        {
          "output_type": "stream",
          "name": "stdout",
          "text": [
            "classifier\n",
            "              precision    recall  f1-score   support\n",
            "\n",
            "           0       1.00      0.97      0.98        32\n",
            "           1       0.95      1.00      0.97        36\n",
            "           2       1.00      1.00      1.00        30\n",
            "           3       1.00      1.00      1.00        41\n",
            "           4       0.97      1.00      0.98        32\n",
            "           5       0.98      1.00      0.99        46\n",
            "           6       1.00      1.00      1.00        32\n",
            "           7       1.00      1.00      1.00        40\n",
            "           8       0.98      0.95      0.96        42\n",
            "           9       1.00      0.93      0.96        29\n",
            "\n",
            "    accuracy                           0.99       360\n",
            "   macro avg       0.99      0.99      0.99       360\n",
            "weighted avg       0.99      0.99      0.99       360\n",
            "\n"
          ]
        }
      ]
    },
    {
      "cell_type": "markdown",
      "source": [
        "SGD Classifier 모델은 다음과 같이 사용합니다."
      ],
      "metadata": {
        "id": "p9Mt6xx7wiQX"
      }
    },
    {
      "cell_type": "code",
      "source": [
        "from sklearn.linear_model import SGDClassifier #선형분류기인 SGDClassifier를 사용하기 위한 import\n",
        "sgd_model = SGDClassifier() # 모델 객체 생성\n",
        "\n",
        "print(sgd_model._estimator_type) # 이 모델의 타입을 확인\n",
        "\n",
        "sgd_model.fit(X_train, y_train) # sgd모델로 훈련데이터로 훈련시킨다.\n",
        "y_pred = sgd_model.predict(X_test)# 그 모델로 test데이터를 사용해 예측\n",
        "\n",
        "print(classification_report(y_test, y_pred)) # 결과 지표를 확인"
      ],
      "metadata": {
        "colab": {
          "base_uri": "https://localhost:8080/"
        },
        "id": "VdBeKzx0wmZF",
        "outputId": "aa4d7fea-4866-4440-d454-dff8eddce7af"
      },
      "execution_count": null,
      "outputs": [
        {
          "output_type": "stream",
          "name": "stdout",
          "text": [
            "classifier\n",
            "              precision    recall  f1-score   support\n",
            "\n",
            "           0       1.00      0.97      0.98        32\n",
            "           1       0.97      0.86      0.91        36\n",
            "           2       1.00      1.00      1.00        30\n",
            "           3       0.95      0.98      0.96        41\n",
            "           4       0.97      1.00      0.98        32\n",
            "           5       0.98      0.98      0.98        46\n",
            "           6       1.00      1.00      1.00        32\n",
            "           7       1.00      1.00      1.00        40\n",
            "           8       0.85      0.98      0.91        42\n",
            "           9       1.00      0.90      0.95        29\n",
            "\n",
            "    accuracy                           0.97       360\n",
            "   macro avg       0.97      0.97      0.97       360\n",
            "weighted avg       0.97      0.97      0.97       360\n",
            "\n"
          ]
        }
      ]
    },
    {
      "cell_type": "markdown",
      "source": [
        "Logistic Regression 모델은 다음과 같이 사용합니다."
      ],
      "metadata": {
        "id": "XjG4RAcowuOA"
      }
    },
    {
      "cell_type": "code",
      "source": [
        "from sklearn.linear_model import LogisticRegression # 선형분류기인 LogisticRegression를 사용하기 위한 import\n",
        "logistic_model = LogisticRegression() # 모델 객체 생성\n",
        "\n",
        "print(logistic_model._estimator_type) # 이 모델의 타입을 확인\n",
        "\n",
        "logistic_model.fit(X_train, y_train) #LogisticRegression모델로 훈련데이터를 가지고 훈련시킨다.\n",
        "y_pred = logistic_model.predict(X_test) # 예측\n",
        "\n",
        "print(classification_report(y_test, y_pred)) # 결과 지표를 확인"
      ],
      "metadata": {
        "colab": {
          "base_uri": "https://localhost:8080/"
        },
        "id": "jrpyIpZWwwHA",
        "outputId": "a8116951-fc45-47f2-bee4-183d81875914"
      },
      "execution_count": null,
      "outputs": [
        {
          "output_type": "stream",
          "name": "stdout",
          "text": [
            "classifier\n",
            "              precision    recall  f1-score   support\n",
            "\n",
            "           0       1.00      1.00      1.00        32\n",
            "           1       0.95      0.97      0.96        36\n",
            "           2       1.00      1.00      1.00        30\n",
            "           3       0.98      1.00      0.99        41\n",
            "           4       0.94      0.97      0.95        32\n",
            "           5       0.98      0.98      0.98        46\n",
            "           6       1.00      1.00      1.00        32\n",
            "           7       0.97      0.97      0.97        40\n",
            "           8       1.00      0.95      0.98        42\n",
            "           9       0.96      0.93      0.95        29\n",
            "\n",
            "    accuracy                           0.98       360\n",
            "   macro avg       0.98      0.98      0.98       360\n",
            "weighted avg       0.98      0.98      0.98       360\n",
            "\n"
          ]
        },
        {
          "output_type": "stream",
          "name": "stderr",
          "text": [
            "/usr/local/lib/python3.10/dist-packages/sklearn/linear_model/_logistic.py:469: ConvergenceWarning: lbfgs failed to converge (status=1):\n",
            "STOP: TOTAL NO. of ITERATIONS REACHED LIMIT.\n",
            "\n",
            "Increase the number of iterations (max_iter) or scale the data as shown in:\n",
            "    https://scikit-learn.org/stable/modules/preprocessing.html\n",
            "Please also refer to the documentation for alternative solver options:\n",
            "    https://scikit-learn.org/stable/modules/linear_model.html#logistic-regression\n",
            "  n_iter_i = _check_optimize_result(\n"
          ]
        }
      ]
    },
    {
      "cell_type": "markdown",
      "source": [
        "(6) 모델을 평가해 보기\n",
        "학습된 모델들의 테스트데이터 예측 결과를 어떻게 해석해야 할까요? 모델의 성능을 평가하는 지표로는 무엇이 좋을까요? sklearn.metrics 에서 제공하는 평가지표 중 적절한 것을 선택해 보세요. 선택하신 이유도 설명해 주세요."
      ],
      "metadata": {
        "id": "6cWp4CBd0YSB"
      }
    },
    {
      "cell_type": "code",
      "source": [
        "fake_pred = [0] * len(y_pred) # 0으로만 이루어진 가짜 답안지 준비\n",
        "\n",
        "accuracy = accuracy_score(y_test, fake_pred) # fake_pred(가짜 답안지)를 y_test(정답지)로 채점\n",
        "accuracy # 정확도 출력"
      ],
      "metadata": {
        "colab": {
          "base_uri": "https://localhost:8080/"
        },
        "id": "7ViXkCsE5zuW",
        "outputId": "7268ced8-6077-4dee-8196-dcbafc96c994"
      },
      "execution_count": null,
      "outputs": [
        {
          "output_type": "execute_result",
          "data": {
            "text/plain": [
              "0.08888888888888889"
            ]
          },
          "metadata": {},
          "execution_count": 47
        }
      ]
    },
    {
      "cell_type": "code",
      "source": [
        "from sklearn.metrics import confusion_matrix\n",
        "\n",
        "confusion_matrix(y_test, y_pred)"
      ],
      "metadata": {
        "colab": {
          "base_uri": "https://localhost:8080/"
        },
        "id": "WbSAQf5d5tjV",
        "outputId": "709225dd-94a9-4032-a464-1854443ca50b"
      },
      "execution_count": null,
      "outputs": [
        {
          "output_type": "execute_result",
          "data": {
            "text/plain": [
              "array([[32,  0,  0,  0,  0,  0,  0,  0,  0,  0],\n",
              "       [ 0, 35,  0,  1,  0,  0,  0,  0,  0,  0],\n",
              "       [ 0,  0, 30,  0,  0,  0,  0,  0,  0,  0],\n",
              "       [ 0,  0,  0, 41,  0,  0,  0,  0,  0,  0],\n",
              "       [ 0,  0,  0,  0, 31,  0,  0,  1,  0,  0],\n",
              "       [ 0,  0,  0,  0,  1, 45,  0,  0,  0,  0],\n",
              "       [ 0,  0,  0,  0,  0,  0, 32,  0,  0,  0],\n",
              "       [ 0,  0,  0,  0,  0,  0,  0, 39,  0,  1],\n",
              "       [ 0,  1,  0,  0,  1,  0,  0,  0, 40,  0],\n",
              "       [ 0,  1,  0,  0,  0,  1,  0,  0,  0, 27]])"
            ]
          },
          "metadata": {},
          "execution_count": 48
        }
      ]
    },
    {
      "cell_type": "code",
      "source": [
        "confusion_matrix(y_test, fake_pred)"
      ],
      "metadata": {
        "colab": {
          "base_uri": "https://localhost:8080/"
        },
        "id": "E8CshVTw5paO",
        "outputId": "ffe26d9a-986e-4f6b-d8fe-c558f3c0b9b7"
      },
      "execution_count": null,
      "outputs": [
        {
          "output_type": "execute_result",
          "data": {
            "text/plain": [
              "array([[32,  0,  0,  0,  0,  0,  0,  0,  0,  0],\n",
              "       [36,  0,  0,  0,  0,  0,  0,  0,  0,  0],\n",
              "       [30,  0,  0,  0,  0,  0,  0,  0,  0,  0],\n",
              "       [41,  0,  0,  0,  0,  0,  0,  0,  0,  0],\n",
              "       [32,  0,  0,  0,  0,  0,  0,  0,  0,  0],\n",
              "       [46,  0,  0,  0,  0,  0,  0,  0,  0,  0],\n",
              "       [32,  0,  0,  0,  0,  0,  0,  0,  0,  0],\n",
              "       [40,  0,  0,  0,  0,  0,  0,  0,  0,  0],\n",
              "       [42,  0,  0,  0,  0,  0,  0,  0,  0,  0],\n",
              "       [29,  0,  0,  0,  0,  0,  0,  0,  0,  0]])"
            ]
          },
          "metadata": {},
          "execution_count": 49
        }
      ]
    },
    {
      "cell_type": "code",
      "source": [
        "from sklearn.metrics import classification_report\n",
        "\n",
        "print(classification_report(y_test, y_pred))"
      ],
      "metadata": {
        "colab": {
          "base_uri": "https://localhost:8080/"
        },
        "id": "hofsxiX25dq6",
        "outputId": "5da64558-1d36-42db-bcaa-657b45b97b46"
      },
      "execution_count": null,
      "outputs": [
        {
          "output_type": "stream",
          "name": "stdout",
          "text": [
            "              precision    recall  f1-score   support\n",
            "\n",
            "           0       1.00      1.00      1.00        32\n",
            "           1       0.95      0.97      0.96        36\n",
            "           2       1.00      1.00      1.00        30\n",
            "           3       0.98      1.00      0.99        41\n",
            "           4       0.94      0.97      0.95        32\n",
            "           5       0.98      0.98      0.98        46\n",
            "           6       1.00      1.00      1.00        32\n",
            "           7       0.97      0.97      0.97        40\n",
            "           8       1.00      0.95      0.98        42\n",
            "           9       0.96      0.93      0.95        29\n",
            "\n",
            "    accuracy                           0.98       360\n",
            "   macro avg       0.98      0.98      0.98       360\n",
            "weighted avg       0.98      0.98      0.98       360\n",
            "\n"
          ]
        }
      ]
    },
    {
      "cell_type": "code",
      "source": [
        "print(classification_report(y_test, fake_pred, zero_division=0))"
      ],
      "metadata": {
        "colab": {
          "base_uri": "https://localhost:8080/"
        },
        "id": "jeQyzUf75io1",
        "outputId": "d70a2a43-d583-48f1-a7f3-2bf592e3a163"
      },
      "execution_count": null,
      "outputs": [
        {
          "output_type": "stream",
          "name": "stdout",
          "text": [
            "              precision    recall  f1-score   support\n",
            "\n",
            "           0       0.09      1.00      0.16        32\n",
            "           1       0.00      0.00      0.00        36\n",
            "           2       0.00      0.00      0.00        30\n",
            "           3       0.00      0.00      0.00        41\n",
            "           4       0.00      0.00      0.00        32\n",
            "           5       0.00      0.00      0.00        46\n",
            "           6       0.00      0.00      0.00        32\n",
            "           7       0.00      0.00      0.00        40\n",
            "           8       0.00      0.00      0.00        42\n",
            "           9       0.00      0.00      0.00        29\n",
            "\n",
            "    accuracy                           0.09       360\n",
            "   macro avg       0.01      0.10      0.02       360\n",
            "weighted avg       0.01      0.09      0.01       360\n",
            "\n"
          ]
        }
      ]
    },
    {
      "cell_type": "code",
      "source": [
        "accuracy_score(y_test, y_pred), accuracy_score(y_test, fake_pred)"
      ],
      "metadata": {
        "colab": {
          "base_uri": "https://localhost:8080/"
        },
        "id": "ZqB8pL3E6Lyp",
        "outputId": "c092e26e-6e8f-4e78-9184-5c2eef7f48c4"
      },
      "execution_count": null,
      "outputs": [
        {
          "output_type": "execute_result",
          "data": {
            "text/plain": [
              "(0.9777777777777777, 0.08888888888888889)"
            ]
          },
          "metadata": {},
          "execution_count": 52
        }
      ]
    },
    {
      "cell_type": "markdown",
      "source": [
        "(모델 평가)\n",
        "\n",
        "RandomForest -  \n",
        "정확도가 97%이고, 대부분의 숫자에서 정밀도, 재현율, F1 점수가 90% 이상으로 매우 높습니다. 이는 RandomForest 모델이 손으로 쓴 숫자를 매우 잘 구별한다는 것을 의미합니다.\n",
        "\n",
        "svm - 99%의 정확도\n",
        "\n",
        "SGD Classifier - 97%의 정확도\n",
        "\n",
        "Logistic Regression - 98%\n",
        "\n",
        "\n",
        "모든 모델들이 대체적으로 높은 정확도를 보여주었음.\n",
        "\n",
        "accuracy_score(y_test, y_pred): 모델의 정확도\n",
        "accuracy_score(y_test, fake_pred): 가짜 예측의 정확도\n",
        "\n",
        "모델의 정확도가 97.8%로 매우 높다.\n",
        "가짜 예측 즉,모든 예측을 특정 값 (예: 0)으로 했을 때의 정확도가 약 8.9%로 매우 낮음.\n",
        "\n",
        "현재 모델의 성능이 우수하다고 판단할 수 있음."
      ],
      "metadata": {
        "id": "PL5EW_J08xn0"
      }
    }
  ]
}