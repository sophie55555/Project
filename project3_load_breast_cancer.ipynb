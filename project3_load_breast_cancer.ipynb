{
  "nbformat": 4,
  "nbformat_minor": 0,
  "metadata": {
    "colab": {
      "provenance": [],
      "authorship_tag": "ABX9TyN8M2SW/hiIvJHgtfjF9wMG",
      "include_colab_link": true
    },
    "kernelspec": {
      "name": "python3",
      "display_name": "Python 3"
    },
    "language_info": {
      "name": "python"
    }
  },
  "cells": [
    {
      "cell_type": "markdown",
      "metadata": {
        "id": "view-in-github",
        "colab_type": "text"
      },
      "source": [
        "<a href=\"https://colab.research.google.com/github/sophie55555/Project/blob/main/project3_load_breast_cancer.ipynb\" target=\"_parent\"><img src=\"https://colab.research.google.com/assets/colab-badge.svg\" alt=\"Open In Colab\"/></a>"
      ]
    },
    {
      "cell_type": "markdown",
      "source": [
        "6-3. 프로젝트 (3) load_breast_cancer : 유방암 여부를 진단해 봅시다\n",
        "마지막으로 유방암 여부를 진단해 보겠습니다.\n",
        "이 데이터 또한 여러 사람의 건강 지표에 대한 데이터가 feature로 들어가있고, 유방암의 여부가 True, False로 label이 됩니다.\n",
        "\n",
        "주어진 데이터로 환자의 유방암 여부를 분류해 볼 수 있을까요?\n",
        "\n",
        "(1) 필요한 모듈 import하기"
      ],
      "metadata": {
        "id": "OdG1Ltsf0gpH"
      }
    },
    {
      "cell_type": "code",
      "execution_count": 10,
      "metadata": {
        "id": "RXJTqOeR0e-2"
      },
      "outputs": [],
      "source": [
        "from sklearn.datasets import load_breast_cancer\n",
        "from sklearn.model_selection import train_test_split\n",
        "from sklearn.metrics import classification_report\n",
        "import pandas as pd\n",
        "import numpy as np"
      ]
    },
    {
      "cell_type": "markdown",
      "source": [],
      "metadata": {
        "id": "JyiSfrR92nP-"
      }
    },
    {
      "cell_type": "markdown",
      "source": [
        "(2) 데이터 준비"
      ],
      "metadata": {
        "id": "H34vR9a_0kwY"
      }
    },
    {
      "cell_type": "code",
      "source": [
        "cancer = load_breast_cancer() # Dictionary 자료형과 유사한 sklearn.utils.Bunch 자료형\n",
        "cancer.keys()"
      ],
      "metadata": {
        "id": "-cYo3iwu0lO4",
        "colab": {
          "base_uri": "https://localhost:8080/"
        },
        "outputId": "33df2f72-edb3-40ef-9942-2bba7902cae7"
      },
      "execution_count": 3,
      "outputs": [
        {
          "output_type": "execute_result",
          "data": {
            "text/plain": [
              "dict_keys(['data', 'target', 'frame', 'target_names', 'DESCR', 'feature_names', 'filename', 'data_module'])"
            ]
          },
          "metadata": {},
          "execution_count": 3
        }
      ]
    },
    {
      "cell_type": "markdown",
      "source": [
        "(3) 데이터 이해하기\n",
        "지피지기면 백전불태! 다루어야 할 데이터를 자세히 살펴봅시다.\n",
        "\n",
        "Feature Data 지정하기\n",
        "Label Data 지정하기\n",
        "Target Names 출력해 보기\n",
        "데이터 Describe 해 보기"
      ],
      "metadata": {
        "id": "ToWelQQN08X1"
      }
    },
    {
      "cell_type": "code",
      "source": [
        "cancer_data = cancer.data\n",
        "cancer_data.shape"
      ],
      "metadata": {
        "id": "BjRMxWCf09Gr",
        "colab": {
          "base_uri": "https://localhost:8080/"
        },
        "outputId": "1f152df0-a487-4ec7-87be-698c559783e2"
      },
      "execution_count": 4,
      "outputs": [
        {
          "output_type": "execute_result",
          "data": {
            "text/plain": [
              "(569, 30)"
            ]
          },
          "metadata": {},
          "execution_count": 4
        }
      ]
    },
    {
      "cell_type": "code",
      "source": [
        "# Feature 데이터 추출\n",
        "X = cancer.data\n",
        "print(\"Feature 데이터 (X):\\n\", X[:5]) # 처음 5개 행 출력\n",
        "print(\"Feature 데이터 형태:\", X.shape) # Feature 데이터의 형태 (행, 열) 출력"
      ],
      "metadata": {
        "colab": {
          "base_uri": "https://localhost:8080/"
        },
        "id": "hHsYgOmh17IB",
        "outputId": "9202c668-6caa-4ba7-c538-99c71bad08b2"
      },
      "execution_count": 5,
      "outputs": [
        {
          "output_type": "stream",
          "name": "stdout",
          "text": [
            "Feature 데이터 (X):\n",
            " [[1.799e+01 1.038e+01 1.228e+02 1.001e+03 1.184e-01 2.776e-01 3.001e-01\n",
            "  1.471e-01 2.419e-01 7.871e-02 1.095e+00 9.053e-01 8.589e+00 1.534e+02\n",
            "  6.399e-03 4.904e-02 5.373e-02 1.587e-02 3.003e-02 6.193e-03 2.538e+01\n",
            "  1.733e+01 1.846e+02 2.019e+03 1.622e-01 6.656e-01 7.119e-01 2.654e-01\n",
            "  4.601e-01 1.189e-01]\n",
            " [2.057e+01 1.777e+01 1.329e+02 1.326e+03 8.474e-02 7.864e-02 8.690e-02\n",
            "  7.017e-02 1.812e-01 5.667e-02 5.435e-01 7.339e-01 3.398e+00 7.408e+01\n",
            "  5.225e-03 1.308e-02 1.860e-02 1.340e-02 1.389e-02 3.532e-03 2.499e+01\n",
            "  2.341e+01 1.588e+02 1.956e+03 1.238e-01 1.866e-01 2.416e-01 1.860e-01\n",
            "  2.750e-01 8.902e-02]\n",
            " [1.969e+01 2.125e+01 1.300e+02 1.203e+03 1.096e-01 1.599e-01 1.974e-01\n",
            "  1.279e-01 2.069e-01 5.999e-02 7.456e-01 7.869e-01 4.585e+00 9.403e+01\n",
            "  6.150e-03 4.006e-02 3.832e-02 2.058e-02 2.250e-02 4.571e-03 2.357e+01\n",
            "  2.553e+01 1.525e+02 1.709e+03 1.444e-01 4.245e-01 4.504e-01 2.430e-01\n",
            "  3.613e-01 8.758e-02]\n",
            " [1.142e+01 2.038e+01 7.758e+01 3.861e+02 1.425e-01 2.839e-01 2.414e-01\n",
            "  1.052e-01 2.597e-01 9.744e-02 4.956e-01 1.156e+00 3.445e+00 2.723e+01\n",
            "  9.110e-03 7.458e-02 5.661e-02 1.867e-02 5.963e-02 9.208e-03 1.491e+01\n",
            "  2.650e+01 9.887e+01 5.677e+02 2.098e-01 8.663e-01 6.869e-01 2.575e-01\n",
            "  6.638e-01 1.730e-01]\n",
            " [2.029e+01 1.434e+01 1.351e+02 1.297e+03 1.003e-01 1.328e-01 1.980e-01\n",
            "  1.043e-01 1.809e-01 5.883e-02 7.572e-01 7.813e-01 5.438e+00 9.444e+01\n",
            "  1.149e-02 2.461e-02 5.688e-02 1.885e-02 1.756e-02 5.115e-03 2.254e+01\n",
            "  1.667e+01 1.522e+02 1.575e+03 1.374e-01 2.050e-01 4.000e-01 1.625e-01\n",
            "  2.364e-01 7.678e-02]]\n",
            "Feature 데이터 형태: (569, 30)\n"
          ]
        }
      ]
    },
    {
      "cell_type": "code",
      "source": [
        "# Feature 이름 추출\n",
        "feature_names = cancer.feature_names\n",
        "print(\"\\nFeature 이름:\\n\", feature_names)"
      ],
      "metadata": {
        "colab": {
          "base_uri": "https://localhost:8080/"
        },
        "id": "S04rVgVu2CUL",
        "outputId": "0f0b6e44-e33d-45c0-f706-e45ecbaafea1"
      },
      "execution_count": 6,
      "outputs": [
        {
          "output_type": "stream",
          "name": "stdout",
          "text": [
            "\n",
            "Feature 이름:\n",
            " ['mean radius' 'mean texture' 'mean perimeter' 'mean area'\n",
            " 'mean smoothness' 'mean compactness' 'mean concavity'\n",
            " 'mean concave points' 'mean symmetry' 'mean fractal dimension'\n",
            " 'radius error' 'texture error' 'perimeter error' 'area error'\n",
            " 'smoothness error' 'compactness error' 'concavity error'\n",
            " 'concave points error' 'symmetry error' 'fractal dimension error'\n",
            " 'worst radius' 'worst texture' 'worst perimeter' 'worst area'\n",
            " 'worst smoothness' 'worst compactness' 'worst concavity'\n",
            " 'worst concave points' 'worst symmetry' 'worst fractal dimension']\n"
          ]
        }
      ]
    },
    {
      "cell_type": "code",
      "source": [
        "# Label 데이터 추출\n",
        "y = cancer.target\n",
        "print(\"\\nLabel 데이터 (y):\\n\", y[:5]) # 처음 5개 레이블 출력\n",
        "print(\"Label 데이터 형태:\", y.shape) # Label 데이터의 형태 출력"
      ],
      "metadata": {
        "colab": {
          "base_uri": "https://localhost:8080/"
        },
        "id": "LJ3Oz0MA2KgI",
        "outputId": "7a0f4626-d6be-4fec-b6fb-633e2cd17013"
      },
      "execution_count": 7,
      "outputs": [
        {
          "output_type": "stream",
          "name": "stdout",
          "text": [
            "\n",
            "Label 데이터 (y):\n",
            " [0 0 0 0 0]\n",
            "Label 데이터 형태: (569,)\n"
          ]
        }
      ]
    },
    {
      "cell_type": "code",
      "source": [
        "# Label 이름 추출\n",
        "target_names = cancer.target_names\n",
        "print(\"\\nLabel 이름:\\n\", target_names)"
      ],
      "metadata": {
        "colab": {
          "base_uri": "https://localhost:8080/"
        },
        "id": "YPe0dJ1J2Rpo",
        "outputId": "ec8ff300-03ba-4827-de79-e4fe7350e7f0"
      },
      "execution_count": 8,
      "outputs": [
        {
          "output_type": "stream",
          "name": "stdout",
          "text": [
            "\n",
            "Label 이름:\n",
            " ['malignant' 'benign']\n"
          ]
        }
      ]
    },
    {
      "cell_type": "code",
      "source": [
        "# DataFrame 생성 (데이터 확인 및 분석 용이)\n",
        "data = pd.DataFrame(cancer.data, columns=cancer.feature_names)\n",
        "target = pd.DataFrame(cancer.target, columns=['target'])\n",
        "df = pd.concat([data, target], axis=1)"
      ],
      "metadata": {
        "id": "AANzM7v82auf"
      },
      "execution_count": 11,
      "outputs": []
    },
    {
      "cell_type": "code",
      "source": [
        "# Feature와 Label 분리\n",
        "X = cancer.data\n",
        "y = cancer.target"
      ],
      "metadata": {
        "id": "Ez-sxW_v2xDb"
      },
      "execution_count": 12,
      "outputs": []
    },
    {
      "cell_type": "markdown",
      "source": [
        "(4) train, test 데이터 분리\n",
        "\n",
        "모델 학습과 테스트용 문제지와 정답지를 준비해 봅시다. X_train, X_test, y_train, y_test를 생성하는 방법을 참고해 보세요."
      ],
      "metadata": {
        "id": "ZiP9JsQk24Fp"
      }
    },
    {
      "cell_type": "code",
      "source": [
        "from sklearn.metrics import accuracy_score\n",
        "from sklearn.model_selection import train_test_split\n",
        "from sklearn.tree import DecisionTreeClassifier\n",
        "'''\n",
        "sklearn.model_selection.train_test_split(*arrays, test_size=None, train_size=None, random_state=None, shuffle=True, stratify=None)\n",
        "\n",
        "\n",
        "# test_size : 전체 데이터 셋 중 Test Dataset에 포함하려고 하는 비율\n",
        "# shuffle : Training Dataset과 Test Dataset으로 나누기 전에, 데이터들을 뒤섞을지 여부\n",
        "'''\n",
        "X_train, X_test, y_train, y_test = train_test_split(X, y, test_size=0.2, random_state=15)\n",
        "\n",
        "decision_tree = DecisionTreeClassifier(random_state=15)\n",
        "decision_tree.fit(X_train, y_train) # 의사결정나무 모델로 학습\n",
        "y_pred = decision_tree.predict(X_test) # 테스트 결과 예측\n",
        "\n",
        "accuracy = accuracy_score(y_test, y_pred) # y_pred(답안지)를 y_test(정답지)로 채점\n",
        "accuracy # 정확도 출력"
      ],
      "metadata": {
        "colab": {
          "base_uri": "https://localhost:8080/"
        },
        "id": "_LLBBDZ4zPsQ",
        "outputId": "b96e6bff-f9e1-47b5-c9eb-9027e26a4d4d"
      },
      "execution_count": 13,
      "outputs": [
        {
          "output_type": "execute_result",
          "data": {
            "text/plain": [
              "0.9473684210526315"
            ]
          },
          "metadata": {},
          "execution_count": 13
        }
      ]
    },
    {
      "cell_type": "markdown",
      "source": [
        "RandomForest"
      ],
      "metadata": {
        "id": "-_9PSrdd3EKn"
      }
    },
    {
      "cell_type": "code",
      "source": [],
      "metadata": {
        "id": "6wjcawrU3E8Z"
      },
      "execution_count": null,
      "outputs": []
    },
    {
      "cell_type": "code",
      "source": [
        "# (1) 필요한 모듈 import\n",
        "from sklearn.datasets import load_iris #싸이킷런 데이터셋에 있는 iris를 불러오는 코드\n",
        "from sklearn.model_selection import train_test_split #싸이킷런에 있는 데이터를 train과 test dataset으로 나누어주는 함수 import\n",
        "from sklearn.ensemble import RandomForestClassifier #랜덤포레스트라는 분류기를 사용하기 위해 import\n",
        "from sklearn.metrics import classification_report #싸이킷런에 있는 분류 결과에 대한 시각화를 위해 쓰는 코드\n",
        "\n",
        "# (2) 데이터 준비\n",
        "cancer_data = cancer.data #iris데이터의 data컬럼을 분류해 iris_data 변수에 담는다.\n",
        "cancer_label = cancer.target #iris데이터의 target컬럼을 분류해 iris_label 변수에 담는다.\n",
        "\n",
        "\n",
        "X_train, X_test, y_train, y_test = train_test_split(cancer_data, # iris 데이터의 data 컬럼\n",
        "                                                    cancer_label, # iris 데이터의 target 컬럼\n",
        "                                                    test_size=0.2, # test_size : train data와 test data를 몇대몇으로 나눌지 정하는 옵션\n",
        "                                                    random_state=21) # random_state : 랜덤 패턴의 값을 지정\n",
        "\n",
        "random_forest = RandomForestClassifier(random_state=32) # RandomForest분류기 객체를 생성\n",
        "random_forest.fit(X_train, y_train) # 훈련\n",
        "y_pred = random_forest.predict(X_test) # 예측\n",
        "\n",
        "print(classification_report(y_test, y_pred)) # 결과 지표를 확인"
      ],
      "metadata": {
        "colab": {
          "base_uri": "https://localhost:8080/"
        },
        "id": "oTqMr77JzybR",
        "outputId": "42ab8db3-dc6a-40f8-9c3f-0f645ff0e73b"
      },
      "execution_count": 15,
      "outputs": [
        {
          "output_type": "stream",
          "name": "stdout",
          "text": [
            "              precision    recall  f1-score   support\n",
            "\n",
            "           0       0.97      0.95      0.96        39\n",
            "           1       0.97      0.99      0.98        75\n",
            "\n",
            "    accuracy                           0.97       114\n",
            "   macro avg       0.97      0.97      0.97       114\n",
            "weighted avg       0.97      0.97      0.97       114\n",
            "\n"
          ]
        }
      ]
    },
    {
      "cell_type": "markdown",
      "source": [
        "SVM 모델은 다음과 같이 사용합니다."
      ],
      "metadata": {
        "id": "MEj2l5Vw3dGg"
      }
    },
    {
      "cell_type": "code",
      "source": [
        "from sklearn import svm #Support Vector Machine을 사용하기 위해 import\n",
        "svm_model = svm.SVC() # 모델 객체를 만든다.\n",
        "\n",
        "print(svm_model._estimator_type) # 이 모델이 어떤 타입인지 확인한다.\n",
        "\n",
        "svm_model.fit(X_train, y_train) # 훈련\n",
        "y_pred = svm_model.predict(X_test) # 예측\n",
        "\n",
        "print(classification_report(y_test, y_pred)) # 결과 지표를 확인"
      ],
      "metadata": {
        "colab": {
          "base_uri": "https://localhost:8080/"
        },
        "id": "Y-MoO9-l3fIM",
        "outputId": "1219f0bb-c4e3-40f5-90eb-89f94e24a2fc"
      },
      "execution_count": 16,
      "outputs": [
        {
          "output_type": "stream",
          "name": "stdout",
          "text": [
            "classifier\n",
            "              precision    recall  f1-score   support\n",
            "\n",
            "           0       0.93      0.72      0.81        39\n",
            "           1       0.87      0.97      0.92        75\n",
            "\n",
            "    accuracy                           0.89       114\n",
            "   macro avg       0.90      0.85      0.86       114\n",
            "weighted avg       0.89      0.89      0.88       114\n",
            "\n"
          ]
        }
      ]
    },
    {
      "cell_type": "markdown",
      "source": [
        "SGD Classifier 모델은 다음과 같이 사용합니다."
      ],
      "metadata": {
        "id": "p0MZvrrf3inT"
      }
    },
    {
      "cell_type": "code",
      "source": [
        "from sklearn.linear_model import SGDClassifier #선형분류기인 SGDClassifier를 사용하기 위한 import\n",
        "sgd_model = SGDClassifier() # 모델 객체 생성\n",
        "\n",
        "print(sgd_model._estimator_type) # 이 모델의 타입을 확인\n",
        "\n",
        "sgd_model.fit(X_train, y_train) # sgd모델로 훈련데이터로 훈련시킨다.\n",
        "y_pred = sgd_model.predict(X_test)# 그 모델로 test데이터를 사용해 예측\n",
        "\n",
        "print(classification_report(y_test, y_pred)) # 결과 지표를 확인"
      ],
      "metadata": {
        "colab": {
          "base_uri": "https://localhost:8080/"
        },
        "id": "5q3ufs8I3ki6",
        "outputId": "2ca09a31-9dac-4489-ac44-0664062791d8"
      },
      "execution_count": 17,
      "outputs": [
        {
          "output_type": "stream",
          "name": "stdout",
          "text": [
            "classifier\n",
            "              precision    recall  f1-score   support\n",
            "\n",
            "           0       0.89      0.79      0.84        39\n",
            "           1       0.90      0.95      0.92        75\n",
            "\n",
            "    accuracy                           0.89       114\n",
            "   macro avg       0.89      0.87      0.88       114\n",
            "weighted avg       0.89      0.89      0.89       114\n",
            "\n"
          ]
        }
      ]
    },
    {
      "cell_type": "markdown",
      "source": [
        "Logistic Regression 모델은 다음과 같이 사용합니다."
      ],
      "metadata": {
        "id": "5HnQ7Ky13o6r"
      }
    },
    {
      "cell_type": "code",
      "source": [
        "from sklearn.linear_model import LogisticRegression # 선형분류기인 LogisticRegression를 사용하기 위한 import\n",
        "logistic_model = LogisticRegression() # 모델 객체 생성\n",
        "\n",
        "print(logistic_model._estimator_type) # 이 모델의 타입을 확인\n",
        "\n",
        "logistic_model.fit(X_train, y_train) #LogisticRegression모델로 훈련데이터를 가지고 훈련시킨다.\n",
        "y_pred = logistic_model.predict(X_test) # 예측\n",
        "\n",
        "print(classification_report(y_test, y_pred)) # 결과 지표를 확인"
      ],
      "metadata": {
        "colab": {
          "base_uri": "https://localhost:8080/"
        },
        "id": "7kmONDvg3pYm",
        "outputId": "b9513b48-e55c-49c4-b422-414581e41156"
      },
      "execution_count": 18,
      "outputs": [
        {
          "output_type": "stream",
          "name": "stdout",
          "text": [
            "classifier\n",
            "              precision    recall  f1-score   support\n",
            "\n",
            "           0       0.92      0.85      0.88        39\n",
            "           1       0.92      0.96      0.94        75\n",
            "\n",
            "    accuracy                           0.92       114\n",
            "   macro avg       0.92      0.90      0.91       114\n",
            "weighted avg       0.92      0.92      0.92       114\n",
            "\n"
          ]
        },
        {
          "output_type": "stream",
          "name": "stderr",
          "text": [
            "/usr/local/lib/python3.10/dist-packages/sklearn/linear_model/_logistic.py:469: ConvergenceWarning: lbfgs failed to converge (status=1):\n",
            "STOP: TOTAL NO. of ITERATIONS REACHED LIMIT.\n",
            "\n",
            "Increase the number of iterations (max_iter) or scale the data as shown in:\n",
            "    https://scikit-learn.org/stable/modules/preprocessing.html\n",
            "Please also refer to the documentation for alternative solver options:\n",
            "    https://scikit-learn.org/stable/modules/linear_model.html#logistic-regression\n",
            "  n_iter_i = _check_optimize_result(\n"
          ]
        }
      ]
    },
    {
      "cell_type": "markdown",
      "source": [
        "(6) 모델을 평가해 보기 학습된 모델들의 테스트데이터 예측 결과를 어떻게 해석해야 할까요? 모델의 성능을 평가하는 지표로는 무엇이 좋을까요? sklearn.metrics 에서 제공하는 평가지표 중 적절한 것을 선택해 보세요. 선택하신 이유도 설명해 주세요."
      ],
      "metadata": {
        "id": "oCIJYj3s3uuB"
      }
    },
    {
      "cell_type": "code",
      "source": [
        "fake_pred = [0] * len(y_pred) # 0으로만 이루어진 가짜 답안지 준비\n",
        "\n",
        "accuracy = accuracy_score(y_test, fake_pred) # fake_pred(가짜 답안지)를 y_test(정답지)로 채점\n",
        "accuracy # 정확도 출력"
      ],
      "metadata": {
        "colab": {
          "base_uri": "https://localhost:8080/"
        },
        "id": "XK0Ap7zr6r5f",
        "outputId": "274ccb9a-0ef0-4541-f8bd-1ffe11f017a4"
      },
      "execution_count": 19,
      "outputs": [
        {
          "output_type": "execute_result",
          "data": {
            "text/plain": [
              "0.34210526315789475"
            ]
          },
          "metadata": {},
          "execution_count": 19
        }
      ]
    },
    {
      "cell_type": "code",
      "source": [
        "from sklearn.metrics import confusion_matrix\n",
        "\n",
        "confusion_matrix(y_test, y_pred)"
      ],
      "metadata": {
        "colab": {
          "base_uri": "https://localhost:8080/"
        },
        "id": "UvFq3dWB6uWL",
        "outputId": "db519672-aa43-41ea-8fb2-4932edb2ce0a"
      },
      "execution_count": 20,
      "outputs": [
        {
          "output_type": "execute_result",
          "data": {
            "text/plain": [
              "array([[33,  6],\n",
              "       [ 3, 72]])"
            ]
          },
          "metadata": {},
          "execution_count": 20
        }
      ]
    },
    {
      "cell_type": "code",
      "source": [
        "confusion_matrix(y_test, fake_pred)"
      ],
      "metadata": {
        "colab": {
          "base_uri": "https://localhost:8080/"
        },
        "id": "RPqzbtOl6xE3",
        "outputId": "d61ead1c-47f1-4e8e-ce5c-8ddbfb49915c"
      },
      "execution_count": 21,
      "outputs": [
        {
          "output_type": "execute_result",
          "data": {
            "text/plain": [
              "array([[39,  0],\n",
              "       [75,  0]])"
            ]
          },
          "metadata": {},
          "execution_count": 21
        }
      ]
    },
    {
      "cell_type": "code",
      "source": [
        "from sklearn.metrics import classification_report\n",
        "\n",
        "print(classification_report(y_test, y_pred))"
      ],
      "metadata": {
        "colab": {
          "base_uri": "https://localhost:8080/"
        },
        "id": "dZ6EwqaY6z3L",
        "outputId": "80918e95-29ff-44a6-f574-c8d739853edd"
      },
      "execution_count": 22,
      "outputs": [
        {
          "output_type": "stream",
          "name": "stdout",
          "text": [
            "              precision    recall  f1-score   support\n",
            "\n",
            "           0       0.92      0.85      0.88        39\n",
            "           1       0.92      0.96      0.94        75\n",
            "\n",
            "    accuracy                           0.92       114\n",
            "   macro avg       0.92      0.90      0.91       114\n",
            "weighted avg       0.92      0.92      0.92       114\n",
            "\n"
          ]
        }
      ]
    },
    {
      "cell_type": "code",
      "source": [
        "print(classification_report(y_test, fake_pred, zero_division=0))"
      ],
      "metadata": {
        "colab": {
          "base_uri": "https://localhost:8080/"
        },
        "id": "_pHkTzye629z",
        "outputId": "0efe7f41-c2b8-4684-c98f-9d52a5a90b93"
      },
      "execution_count": 23,
      "outputs": [
        {
          "output_type": "stream",
          "name": "stdout",
          "text": [
            "              precision    recall  f1-score   support\n",
            "\n",
            "           0       0.34      1.00      0.51        39\n",
            "           1       0.00      0.00      0.00        75\n",
            "\n",
            "    accuracy                           0.34       114\n",
            "   macro avg       0.17      0.50      0.25       114\n",
            "weighted avg       0.12      0.34      0.17       114\n",
            "\n"
          ]
        }
      ]
    },
    {
      "cell_type": "code",
      "source": [
        "accuracy_score(y_test, y_pred), accuracy_score(y_test, fake_pred)"
      ],
      "metadata": {
        "colab": {
          "base_uri": "https://localhost:8080/"
        },
        "id": "7OT4bMG_66Jr",
        "outputId": "3eeed56a-b49a-49f2-e5ad-067676555985"
      },
      "execution_count": 24,
      "outputs": [
        {
          "output_type": "execute_result",
          "data": {
            "text/plain": [
              "(0.9210526315789473, 0.34210526315789475)"
            ]
          },
          "metadata": {},
          "execution_count": 24
        }
      ]
    },
    {
      "cell_type": "markdown",
      "source": [
        "(모델 평가)\n",
        "\n",
        "RandomForest - 97%\n",
        "\n",
        "RandomForest - 평균 97%의 높은 정확도를 보임.\n",
        "\n",
        "SVM - 89%\n",
        "\n",
        "SGD Classifier - 클래스별 성능 차이:\n",
        "클래스 0 (악성): 정밀도는 0.89로 비교적 높지만, 재현율은 0.79로 상대적으로 낮음. 이는 모델이 악성이라고 예측한 것 중 실제 악성인 비율은 높지만, 실제 악성 샘플 중 모델이 악성이라고 제대로 찾아낸 비율은 비교적 낮다는 것을 의미함. 즉, 실제 악성인데 양성으로 잘못 분류하는 경우가 있을 수 있음.\n",
        "클래스 1 (양성): 정밀도는 0.90, 재현율은 0.95로 모두 높음. 양성 샘플을 비교적 정확하게 분류하고 있음을 나타냄.\n",
        "클래스 불균형: 양성(75개) 샘플이 악성(39개) 샘플보다 많음. 이러한 클래스 불균형이 모델 성능에 영향을 미쳤을 가능성이 있으며, 특히 악성 샘플의 재현율이 낮은 것에 영향을 주었을 수 있음.\n",
        "\n",
        "Logistic Regression - 클래스 0 (악성): 정밀도는 0.92로 높지만, 재현율은 0.85로 상대적으로 낮음. 즉, 악성이라고 예측한 것 중 실제 악성인 비율은 높지만, 실제 악성 샘플 중 일부를 놓치는 경우가 있다는 것을 의미함.\n",
        "클래스 1 (양성): 정밀도와 재현율이 각각 0.92와 0.96으로 모두 높음. 양성 샘플을 매우 잘 분류하고 있음을 나타냄.\n",
        "\n",
        "accuracy_score(y_test, y_pred): 모델의 정확도\n",
        "accuracy_score(y_test, fake_pred): 가짜 예측의 정확도\n",
        "\n",
        "두 정확도의 차이(92.1% vs 34.2%)는 모델이 학습을 통해 얼마나 효과적으로 데이터를 학습했는지, 즉 의미 있는 패턴을 얼마나 잘 찾아냈는지를 명확하게 보여줍니다."
      ],
      "metadata": {
        "id": "f9yskYy2_-nm"
      }
    }
  ]
}