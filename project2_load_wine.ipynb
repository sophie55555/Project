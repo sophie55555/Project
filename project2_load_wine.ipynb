{
  "nbformat": 4,
  "nbformat_minor": 0,
  "metadata": {
    "colab": {
      "provenance": [],
      "authorship_tag": "ABX9TyOWi2fypxKR5Ii15Fr9VI2P",
      "include_colab_link": true
    },
    "kernelspec": {
      "name": "python3",
      "display_name": "Python 3"
    },
    "language_info": {
      "name": "python"
    }
  },
  "cells": [
    {
      "cell_type": "markdown",
      "metadata": {
        "id": "view-in-github",
        "colab_type": "text"
      },
      "source": [
        "<a href=\"https://colab.research.google.com/github/sophie55555/Project/blob/main/project2_load_wine.ipynb\" target=\"_parent\"><img src=\"https://colab.research.google.com/assets/colab-badge.svg\" alt=\"Open In Colab\"/></a>"
      ]
    },
    {
      "cell_type": "markdown",
      "source": [
        "6-2. 프로젝트 (2) load_wine : 와인을 분류해 봅시다\n",
        "이번에는 와인 데이터입니다. 와인의 어떤 특징으로 와인의 종류를 분류해 볼 수 있을까요?\n",
        "\n",
        "데이터에 어떤 정보가 담겨있는지, feature는 무엇이고 label은 무엇인지 확인해 보면서 진행하는 점, 잊지마세요!\n",
        "\n",
        "(1) 필요한 모듈 import하기"
      ],
      "metadata": {
        "id": "66bI5YraxiE7"
      }
    },
    {
      "cell_type": "code",
      "execution_count": 17,
      "metadata": {
        "id": "Hk-gAFNBxV2L"
      },
      "outputs": [],
      "source": [
        "from sklearn.datasets import load_wine\n",
        "from sklearn.model_selection import train_test_split\n",
        "from sklearn.metrics import classification_report\n",
        "import pandas as pd\n",
        "import numpy as np"
      ]
    },
    {
      "cell_type": "markdown",
      "source": [
        "(2) 데이터 준비"
      ],
      "metadata": {
        "id": "gG3l2ayMxndp"
      }
    },
    {
      "cell_type": "code",
      "source": [
        "wine = load_wine() # Dictionary 자료형과 유사한 sklearn.utils.Bunch 자료형\n",
        "wine.keys()"
      ],
      "metadata": {
        "colab": {
          "base_uri": "https://localhost:8080/"
        },
        "id": "6_5tD7C-xoJq",
        "outputId": "a41222d4-fd32-4b75-b8be-15f2446d69d0"
      },
      "execution_count": 2,
      "outputs": [
        {
          "output_type": "execute_result",
          "data": {
            "text/plain": [
              "dict_keys(['data', 'target', 'frame', 'target_names', 'DESCR', 'feature_names'])"
            ]
          },
          "metadata": {},
          "execution_count": 2
        }
      ]
    },
    {
      "cell_type": "markdown",
      "source": [
        "(3) 데이터 이해하기\n",
        "지피지기면 백전불태! 다루어야 할 데이터를 자세히 살펴봅시다.\n",
        "\n",
        "Feature Data 지정하기\n",
        "Label Data 지정하기\n",
        "Target Names 출력해 보기\n",
        "데이터 Describe 해 보기"
      ],
      "metadata": {
        "id": "fx3fi3khx3OY"
      }
    },
    {
      "cell_type": "code",
      "source": [
        "wine_data = wine.data\n",
        "wine_data.shape"
      ],
      "metadata": {
        "colab": {
          "base_uri": "https://localhost:8080/"
        },
        "id": "BsKf0oQ-x4Rh",
        "outputId": "6e497aa8-9bec-4dc0-c207-e77af1423105"
      },
      "execution_count": 3,
      "outputs": [
        {
          "output_type": "execute_result",
          "data": {
            "text/plain": [
              "(178, 13)"
            ]
          },
          "metadata": {},
          "execution_count": 3
        }
      ]
    },
    {
      "cell_type": "code",
      "source": [
        "# Feature 데이터 추출\n",
        "X = wine.data\n",
        "print(\"Feature 데이터 (X):\\n\", X[:5]) # 처음 5개 행 출력\n",
        "print(\"Feature 데이터 형태:\", X.shape) # Feature 데이터의 형태 (행, 열) 출력"
      ],
      "metadata": {
        "colab": {
          "base_uri": "https://localhost:8080/"
        },
        "id": "lCzCbhAzyLjB",
        "outputId": "10fadb5d-fbe2-47e0-e711-ab350fa1e55e"
      },
      "execution_count": 5,
      "outputs": [
        {
          "output_type": "stream",
          "name": "stdout",
          "text": [
            "Feature 데이터 (X):\n",
            " [[1.423e+01 1.710e+00 2.430e+00 1.560e+01 1.270e+02 2.800e+00 3.060e+00\n",
            "  2.800e-01 2.290e+00 5.640e+00 1.040e+00 3.920e+00 1.065e+03]\n",
            " [1.320e+01 1.780e+00 2.140e+00 1.120e+01 1.000e+02 2.650e+00 2.760e+00\n",
            "  2.600e-01 1.280e+00 4.380e+00 1.050e+00 3.400e+00 1.050e+03]\n",
            " [1.316e+01 2.360e+00 2.670e+00 1.860e+01 1.010e+02 2.800e+00 3.240e+00\n",
            "  3.000e-01 2.810e+00 5.680e+00 1.030e+00 3.170e+00 1.185e+03]\n",
            " [1.437e+01 1.950e+00 2.500e+00 1.680e+01 1.130e+02 3.850e+00 3.490e+00\n",
            "  2.400e-01 2.180e+00 7.800e+00 8.600e-01 3.450e+00 1.480e+03]\n",
            " [1.324e+01 2.590e+00 2.870e+00 2.100e+01 1.180e+02 2.800e+00 2.690e+00\n",
            "  3.900e-01 1.820e+00 4.320e+00 1.040e+00 2.930e+00 7.350e+02]]\n",
            "Feature 데이터 형태: (178, 13)\n"
          ]
        }
      ]
    },
    {
      "cell_type": "code",
      "source": [
        "# Feature 이름 추출\n",
        "feature_names = wine.feature_names\n",
        "print(\"\\nFeature 이름:\\n\", feature_names)"
      ],
      "metadata": {
        "colab": {
          "base_uri": "https://localhost:8080/"
        },
        "id": "Kd3NTp0myTeV",
        "outputId": "e3d4c003-8873-42e1-d515-fd3a89bf9dd5"
      },
      "execution_count": 6,
      "outputs": [
        {
          "output_type": "stream",
          "name": "stdout",
          "text": [
            "\n",
            "Feature 이름:\n",
            " ['alcohol', 'malic_acid', 'ash', 'alcalinity_of_ash', 'magnesium', 'total_phenols', 'flavanoids', 'nonflavanoid_phenols', 'proanthocyanins', 'color_intensity', 'hue', 'od280/od315_of_diluted_wines', 'proline']\n"
          ]
        }
      ]
    },
    {
      "cell_type": "code",
      "source": [
        "# Label 데이터 추출\n",
        "y = wine.target\n",
        "print(\"\\nLabel 데이터 (y):\\n\", y[:5]) # 처음 5개 레이블 출력\n",
        "print(\"Label 데이터 형태:\", y.shape) # Label 데이터의 형태 출력"
      ],
      "metadata": {
        "colab": {
          "base_uri": "https://localhost:8080/"
        },
        "id": "nQ73Co0cyfQG",
        "outputId": "ec4bc0e0-c99a-41e4-d5b9-0b13838c47ad"
      },
      "execution_count": 7,
      "outputs": [
        {
          "output_type": "stream",
          "name": "stdout",
          "text": [
            "\n",
            "Label 데이터 (y):\n",
            " [0 0 0 0 0]\n",
            "Label 데이터 형태: (178,)\n"
          ]
        }
      ]
    },
    {
      "cell_type": "code",
      "source": [
        "# Label 이름 추출\n",
        "target_names = wine.target_names\n",
        "print(\"\\nLabel 이름:\\n\", target_names)"
      ],
      "metadata": {
        "colab": {
          "base_uri": "https://localhost:8080/"
        },
        "id": "U53TRO1oylNn",
        "outputId": "8687d28f-e754-41f1-83e6-8051abefb41f"
      },
      "execution_count": 8,
      "outputs": [
        {
          "output_type": "stream",
          "name": "stdout",
          "text": [
            "\n",
            "Label 이름:\n",
            " ['class_0' 'class_1' 'class_2']\n"
          ]
        }
      ]
    },
    {
      "cell_type": "code",
      "source": [
        "# DataFrame 생성 (데이터 확인 및 분석 용이)\n",
        "data = pd.DataFrame(wine.data, columns=wine.feature_names)\n",
        "target = pd.DataFrame(wine.target, columns=['target'])\n",
        "df = pd.concat([data, target], axis=1)"
      ],
      "metadata": {
        "id": "UvlV3x2CyqeM"
      },
      "execution_count": 13,
      "outputs": []
    },
    {
      "cell_type": "code",
      "source": [
        "# Feature와 Label 분리\n",
        "X = wine.data\n",
        "y = wine.target"
      ],
      "metadata": {
        "id": "7Cu6XJ7AzC8G"
      },
      "execution_count": 14,
      "outputs": []
    },
    {
      "cell_type": "markdown",
      "source": [
        "(4) train, test 데이터 분리\n",
        "\n",
        "모델 학습과 테스트용 문제지와 정답지를 준비해 봅시다.\n",
        "X_train, X_test, y_train, y_test를 생성하는 방법을 참고해 보세요."
      ],
      "metadata": {
        "id": "oNuvSZj2zOla"
      }
    },
    {
      "cell_type": "code",
      "source": [
        "from sklearn.metrics import accuracy_score\n",
        "from sklearn.model_selection import train_test_split\n",
        "from sklearn.tree import DecisionTreeClassifier\n",
        "'''\n",
        "sklearn.model_selection.train_test_split(*arrays, test_size=None, train_size=None, random_state=None, shuffle=True, stratify=None)\n",
        "\n",
        "\n",
        "# test_size : 전체 데이터 셋 중 Test Dataset에 포함하려고 하는 비율\n",
        "# shuffle : Training Dataset과 Test Dataset으로 나누기 전에, 데이터들을 뒤섞을지 여부\n",
        "'''\n",
        "X_train, X_test, y_train, y_test = train_test_split(X, y, test_size=0.2, random_state=15)\n",
        "\n",
        "decision_tree = DecisionTreeClassifier(random_state=15)\n",
        "decision_tree.fit(X_train, y_train) # 의사결정나무 모델로 학습\n",
        "y_pred = decision_tree.predict(X_test) # 테스트 결과 예측\n",
        "\n",
        "accuracy = accuracy_score(y_test, y_pred) # y_pred(답안지)를 y_test(정답지)로 채점\n",
        "accuracy # 정확도 출력"
      ],
      "metadata": {
        "colab": {
          "base_uri": "https://localhost:8080/"
        },
        "id": "_LLBBDZ4zPsQ",
        "outputId": "4960d914-ac30-4491-d591-565c822cf1f0"
      },
      "execution_count": 19,
      "outputs": [
        {
          "output_type": "execute_result",
          "data": {
            "text/plain": [
              "0.9166666666666666"
            ]
          },
          "metadata": {},
          "execution_count": 19
        }
      ]
    },
    {
      "cell_type": "markdown",
      "source": [
        "RandomForest"
      ],
      "metadata": {
        "id": "jNyC2UOHyR1y"
      }
    },
    {
      "cell_type": "code",
      "source": [
        "# (1) 필요한 모듈 import\n",
        "from sklearn.datasets import load_iris #싸이킷런 데이터셋에 있는 iris를 불러오는 코드\n",
        "from sklearn.model_selection import train_test_split #싸이킷런에 있는 데이터를 train과 test dataset으로 나누어주는 함수 import\n",
        "from sklearn.ensemble import RandomForestClassifier #랜덤포레스트라는 분류기를 사용하기 위해 import\n",
        "from sklearn.metrics import classification_report #싸이킷런에 있는 분류 결과에 대한 시각화를 위해 쓰는 코드\n",
        "\n",
        "# (2) 데이터 준비\n",
        "wine = load_wine() #iris 데이터 전체를 불러온다.\n",
        "wine_data = wine.data #iris데이터의 data컬럼을 분류해 iris_data 변수에 담는다.\n",
        "wine_label = wine.target #iris데이터의 target컬럼을 분류해 iris_label 변수에 담는다.\n",
        "\n",
        "\n",
        "X_train, X_test, y_train, y_test = train_test_split(wine_data, # iris 데이터의 data 컬럼\n",
        "                                                    wine_label, # iris 데이터의 target 컬럼\n",
        "                                                    test_size=0.2, # test_size : train data와 test data를 몇대몇으로 나눌지 정하는 옵션\n",
        "                                                    random_state=21) # random_state : 랜덤 패턴의 값을 지정\n",
        "\n",
        "random_forest = RandomForestClassifier(random_state=32) # RandomForest분류기 객체를 생성\n",
        "random_forest.fit(X_train, y_train) # 훈련\n",
        "y_pred = random_forest.predict(X_test) # 예측\n",
        "\n",
        "print(classification_report(y_test, y_pred)) # 결과 지표를 확인"
      ],
      "metadata": {
        "colab": {
          "base_uri": "https://localhost:8080/"
        },
        "id": "oTqMr77JzybR",
        "outputId": "31d4ba5a-5f0e-45a1-e08b-c87d13a50055"
      },
      "execution_count": 20,
      "outputs": [
        {
          "output_type": "stream",
          "name": "stdout",
          "text": [
            "              precision    recall  f1-score   support\n",
            "\n",
            "           0       1.00      1.00      1.00        15\n",
            "           1       1.00      1.00      1.00        10\n",
            "           2       1.00      1.00      1.00        11\n",
            "\n",
            "    accuracy                           1.00        36\n",
            "   macro avg       1.00      1.00      1.00        36\n",
            "weighted avg       1.00      1.00      1.00        36\n",
            "\n"
          ]
        }
      ]
    },
    {
      "cell_type": "markdown",
      "source": [
        "SVM 모델은 다음과 같이 사용합니다."
      ],
      "metadata": {
        "id": "duOdo91M0C1Z"
      }
    },
    {
      "cell_type": "code",
      "source": [
        "from sklearn import svm #Support Vector Machine을 사용하기 위해 import\n",
        "svm_model = svm.SVC() # 모델 객체를 만든다.\n",
        "\n",
        "print(svm_model._estimator_type) # 이 모델이 어떤 타입인지 확인한다.\n",
        "\n",
        "svm_model.fit(X_train, y_train) # 훈련\n",
        "y_pred = svm_model.predict(X_test) # 예측\n",
        "\n",
        "print(classification_report(y_test, y_pred)) # 결과 지표를 확인"
      ],
      "metadata": {
        "colab": {
          "base_uri": "https://localhost:8080/"
        },
        "id": "qvvrf3Q30DQq",
        "outputId": "1072f9dd-7bb5-468f-914d-aad7ae51ce9a"
      },
      "execution_count": 21,
      "outputs": [
        {
          "output_type": "stream",
          "name": "stdout",
          "text": [
            "classifier\n",
            "              precision    recall  f1-score   support\n",
            "\n",
            "           0       0.86      0.80      0.83        15\n",
            "           1       0.45      1.00      0.62        10\n",
            "           2       0.00      0.00      0.00        11\n",
            "\n",
            "    accuracy                           0.61        36\n",
            "   macro avg       0.44      0.60      0.48        36\n",
            "weighted avg       0.48      0.61      0.52        36\n",
            "\n"
          ]
        },
        {
          "output_type": "stream",
          "name": "stderr",
          "text": [
            "/usr/local/lib/python3.10/dist-packages/sklearn/metrics/_classification.py:1531: UndefinedMetricWarning: Precision is ill-defined and being set to 0.0 in labels with no predicted samples. Use `zero_division` parameter to control this behavior.\n",
            "  _warn_prf(average, modifier, f\"{metric.capitalize()} is\", len(result))\n",
            "/usr/local/lib/python3.10/dist-packages/sklearn/metrics/_classification.py:1531: UndefinedMetricWarning: Precision is ill-defined and being set to 0.0 in labels with no predicted samples. Use `zero_division` parameter to control this behavior.\n",
            "  _warn_prf(average, modifier, f\"{metric.capitalize()} is\", len(result))\n",
            "/usr/local/lib/python3.10/dist-packages/sklearn/metrics/_classification.py:1531: UndefinedMetricWarning: Precision is ill-defined and being set to 0.0 in labels with no predicted samples. Use `zero_division` parameter to control this behavior.\n",
            "  _warn_prf(average, modifier, f\"{metric.capitalize()} is\", len(result))\n"
          ]
        }
      ]
    },
    {
      "cell_type": "markdown",
      "source": [
        "SGD Classifier 모델은 다음과 같이 사용합니다."
      ],
      "metadata": {
        "id": "SgNVaUjV0I2Z"
      }
    },
    {
      "cell_type": "code",
      "source": [
        "from sklearn.linear_model import SGDClassifier #선형분류기인 SGDClassifier를 사용하기 위한 import\n",
        "sgd_model = SGDClassifier() # 모델 객체 생성\n",
        "\n",
        "print(sgd_model._estimator_type) # 이 모델의 타입을 확인\n",
        "\n",
        "sgd_model.fit(X_train, y_train) # sgd모델로 훈련데이터로 훈련시킨다.\n",
        "y_pred = sgd_model.predict(X_test)# 그 모델로 test데이터를 사용해 예측\n",
        "\n",
        "print(classification_report(y_test, y_pred)) # 결과 지표를 확인"
      ],
      "metadata": {
        "colab": {
          "base_uri": "https://localhost:8080/"
        },
        "id": "eUJtODkY0JNA",
        "outputId": "f7c080c8-121b-4b77-afce-dcdccfc73f8b"
      },
      "execution_count": 22,
      "outputs": [
        {
          "output_type": "stream",
          "name": "stdout",
          "text": [
            "classifier\n",
            "              precision    recall  f1-score   support\n",
            "\n",
            "           0       0.67      0.93      0.78        15\n",
            "           1       0.00      0.00      0.00        10\n",
            "           2       0.47      0.64      0.54        11\n",
            "\n",
            "    accuracy                           0.58        36\n",
            "   macro avg       0.38      0.52      0.44        36\n",
            "weighted avg       0.42      0.58      0.49        36\n",
            "\n"
          ]
        },
        {
          "output_type": "stream",
          "name": "stderr",
          "text": [
            "/usr/local/lib/python3.10/dist-packages/sklearn/metrics/_classification.py:1531: UndefinedMetricWarning: Precision is ill-defined and being set to 0.0 in labels with no predicted samples. Use `zero_division` parameter to control this behavior.\n",
            "  _warn_prf(average, modifier, f\"{metric.capitalize()} is\", len(result))\n",
            "/usr/local/lib/python3.10/dist-packages/sklearn/metrics/_classification.py:1531: UndefinedMetricWarning: Precision is ill-defined and being set to 0.0 in labels with no predicted samples. Use `zero_division` parameter to control this behavior.\n",
            "  _warn_prf(average, modifier, f\"{metric.capitalize()} is\", len(result))\n",
            "/usr/local/lib/python3.10/dist-packages/sklearn/metrics/_classification.py:1531: UndefinedMetricWarning: Precision is ill-defined and being set to 0.0 in labels with no predicted samples. Use `zero_division` parameter to control this behavior.\n",
            "  _warn_prf(average, modifier, f\"{metric.capitalize()} is\", len(result))\n"
          ]
        }
      ]
    },
    {
      "cell_type": "markdown",
      "source": [
        "Logistic Regression 모델은 다음과 같이 사용합니다."
      ],
      "metadata": {
        "id": "M_7Kv3yj0N_z"
      }
    },
    {
      "cell_type": "code",
      "source": [
        "from sklearn.linear_model import LogisticRegression # 선형분류기인 LogisticRegression를 사용하기 위한 import\n",
        "logistic_model = LogisticRegression() # 모델 객체 생성\n",
        "\n",
        "print(logistic_model._estimator_type) # 이 모델의 타입을 확인\n",
        "\n",
        "logistic_model.fit(X_train, y_train) #LogisticRegression모델로 훈련데이터를 가지고 훈련시킨다.\n",
        "y_pred = logistic_model.predict(X_test) # 예측\n",
        "\n",
        "print(classification_report(y_test, y_pred)) # 결과 지표를 확인"
      ],
      "metadata": {
        "colab": {
          "base_uri": "https://localhost:8080/"
        },
        "id": "VvyWlZv90Otx",
        "outputId": "251731fa-6bd1-41dd-a163-994181c8ebe8"
      },
      "execution_count": 23,
      "outputs": [
        {
          "output_type": "stream",
          "name": "stdout",
          "text": [
            "classifier\n",
            "              precision    recall  f1-score   support\n",
            "\n",
            "           0       1.00      1.00      1.00        15\n",
            "           1       1.00      1.00      1.00        10\n",
            "           2       1.00      1.00      1.00        11\n",
            "\n",
            "    accuracy                           1.00        36\n",
            "   macro avg       1.00      1.00      1.00        36\n",
            "weighted avg       1.00      1.00      1.00        36\n",
            "\n"
          ]
        },
        {
          "output_type": "stream",
          "name": "stderr",
          "text": [
            "/usr/local/lib/python3.10/dist-packages/sklearn/linear_model/_logistic.py:469: ConvergenceWarning: lbfgs failed to converge (status=1):\n",
            "STOP: TOTAL NO. of ITERATIONS REACHED LIMIT.\n",
            "\n",
            "Increase the number of iterations (max_iter) or scale the data as shown in:\n",
            "    https://scikit-learn.org/stable/modules/preprocessing.html\n",
            "Please also refer to the documentation for alternative solver options:\n",
            "    https://scikit-learn.org/stable/modules/linear_model.html#logistic-regression\n",
            "  n_iter_i = _check_optimize_result(\n"
          ]
        }
      ]
    },
    {
      "cell_type": "markdown",
      "source": [
        "(6) 모델을 평가해 보기\n",
        "학습된 모델들의 테스트데이터 예측 결과를 어떻게 해석해야 할까요? 모델의 성능을 평가하는 지표로는 무엇이 좋을까요? sklearn.metrics 에서 제공하는 평가지표 중 적절한 것을 선택해 보세요. 선택하신 이유도 설명해 주세요."
      ],
      "metadata": {
        "id": "VyhUNLbJ0XEJ"
      }
    },
    {
      "cell_type": "code",
      "source": [
        "fake_pred = [0] * len(y_pred) # 0으로만 이루어진 가짜 답안지 준비\n",
        "\n",
        "accuracy = accuracy_score(y_test, fake_pred) # fake_pred(가짜 답안지)를 y_test(정답지)로 채점\n",
        "accuracy # 정확도 출력"
      ],
      "metadata": {
        "colab": {
          "base_uri": "https://localhost:8080/"
        },
        "id": "wlY8UJ-r6VSO",
        "outputId": "529eca1f-8852-4cf3-bd43-2d1a7914179c"
      },
      "execution_count": 24,
      "outputs": [
        {
          "output_type": "execute_result",
          "data": {
            "text/plain": [
              "0.4166666666666667"
            ]
          },
          "metadata": {},
          "execution_count": 24
        }
      ]
    },
    {
      "cell_type": "code",
      "source": [
        "from sklearn.metrics import confusion_matrix\n",
        "\n",
        "confusion_matrix(y_test, y_pred)"
      ],
      "metadata": {
        "colab": {
          "base_uri": "https://localhost:8080/"
        },
        "id": "kbtovE446Yd_",
        "outputId": "44a7acba-8d97-4465-ac54-44df9b865ec0"
      },
      "execution_count": 25,
      "outputs": [
        {
          "output_type": "execute_result",
          "data": {
            "text/plain": [
              "array([[15,  0,  0],\n",
              "       [ 0, 10,  0],\n",
              "       [ 0,  0, 11]])"
            ]
          },
          "metadata": {},
          "execution_count": 25
        }
      ]
    },
    {
      "cell_type": "code",
      "source": [
        "confusion_matrix(y_test, fake_pred)"
      ],
      "metadata": {
        "colab": {
          "base_uri": "https://localhost:8080/"
        },
        "id": "qtAdLn-f6bG9",
        "outputId": "3a3d5a3e-c5e5-4e69-9144-52bb32ba2114"
      },
      "execution_count": 26,
      "outputs": [
        {
          "output_type": "execute_result",
          "data": {
            "text/plain": [
              "array([[15,  0,  0],\n",
              "       [10,  0,  0],\n",
              "       [11,  0,  0]])"
            ]
          },
          "metadata": {},
          "execution_count": 26
        }
      ]
    },
    {
      "cell_type": "code",
      "source": [
        "from sklearn.metrics import classification_report\n",
        "\n",
        "print(classification_report(y_test, y_pred))"
      ],
      "metadata": {
        "colab": {
          "base_uri": "https://localhost:8080/"
        },
        "id": "FLp81XZB6gO0",
        "outputId": "09c4fda0-1924-4282-b27e-53e3abbd62a4"
      },
      "execution_count": 27,
      "outputs": [
        {
          "output_type": "stream",
          "name": "stdout",
          "text": [
            "              precision    recall  f1-score   support\n",
            "\n",
            "           0       1.00      1.00      1.00        15\n",
            "           1       1.00      1.00      1.00        10\n",
            "           2       1.00      1.00      1.00        11\n",
            "\n",
            "    accuracy                           1.00        36\n",
            "   macro avg       1.00      1.00      1.00        36\n",
            "weighted avg       1.00      1.00      1.00        36\n",
            "\n"
          ]
        }
      ]
    },
    {
      "cell_type": "code",
      "source": [
        "print(classification_report(y_test, fake_pred, zero_division=0))"
      ],
      "metadata": {
        "colab": {
          "base_uri": "https://localhost:8080/"
        },
        "id": "mSmCkFgY6jUq",
        "outputId": "1c666d48-9bcc-4b2d-e869-4f914a3b83b4"
      },
      "execution_count": 28,
      "outputs": [
        {
          "output_type": "stream",
          "name": "stdout",
          "text": [
            "              precision    recall  f1-score   support\n",
            "\n",
            "           0       0.42      1.00      0.59        15\n",
            "           1       0.00      0.00      0.00        10\n",
            "           2       0.00      0.00      0.00        11\n",
            "\n",
            "    accuracy                           0.42        36\n",
            "   macro avg       0.14      0.33      0.20        36\n",
            "weighted avg       0.17      0.42      0.25        36\n",
            "\n"
          ]
        }
      ]
    },
    {
      "cell_type": "code",
      "source": [
        "accuracy_score(y_test, y_pred), accuracy_score(y_test, fake_pred)"
      ],
      "metadata": {
        "colab": {
          "base_uri": "https://localhost:8080/"
        },
        "id": "A_ej6XWO6l9h",
        "outputId": "06112734-b339-42d2-ab2d-c393b7ad7792"
      },
      "execution_count": 29,
      "outputs": [
        {
          "output_type": "execute_result",
          "data": {
            "text/plain": [
              "(1.0, 0.4166666666666667)"
            ]
          },
          "metadata": {},
          "execution_count": 29
        }
      ]
    },
    {
      "cell_type": "markdown",
      "source": [
        "(모델 평가)\n",
        "DecisionTree - 92%\n",
        "\n",
        "RandomForest - 100%\n",
        "\n",
        "SVM - 와인 종류 2에 대한 분류 성능이 저조. 데이터셋 자체에 클래스 불균형 문제가 존재\n",
        "\n",
        "SGD Classifier - 정확도 58%, 와인 종류 1에 대한 분류 성능이 매우 저조. (precision = 0.00, recall = 0.00, f1-score = 0.00) 데이터셋 자체에 클래스 불균형 문제가 존재.\n",
        "\n",
        "Logistic Regression  - 테스트 데이터셋이 36개밖에 되지 않아 우연히 100% 완벽한 정확도가 나올 수도 있음.\n",
        "\n",
        "accuracy_score(y_test, y_pred): 모델의 정확도\n",
        "accuracy_score(y_test, fake_pred): 가짜 예측의 정확도\n",
        "\n",
        "두 정확도의 큰 차이(100% vs 41.7%)는 모델이 학습을 통해 얼마나 효과적으로 데이터를 학습했는지를 보여준다. 다만, 100%일 경우는 학습 데이터에는 매우 잘 작동하지만, 새로운 데이터에 대해서는 성능이 떨어질 수 있습니다. 교차 검증(cross-validation) 등을 통해 과적합 여부를 확인해야 합니다."
      ],
      "metadata": {
        "id": "3IGEF_r1_nEE"
      }
    }
  ]
}